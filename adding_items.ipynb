{
  "nbformat": 4,
  "nbformat_minor": 0,
  "metadata": {
    "colab": {
      "name": "adding items",
      "provenance": []
    },
    "kernelspec": {
      "name": "python3",
      "display_name": "Python 3"
    },
    "language_info": {
      "name": "python"
    }
  },
  "cells": [
    {
      "cell_type": "code",
      "metadata": {
        "id": "Y6KLH-9OQ2Kg"
      },
      "source": [
        "import json\n",
        "fd = open(\"medicine_records.json\")\n",
        "r = fd.read()\n",
        "fd.close()\n",
        "medicine_records = json.loads(r)"
      ],
      "execution_count": 9,
      "outputs": []
    },
    {
      "cell_type": "code",
      "metadata": {
        "colab": {
          "base_uri": "https://localhost:8080/"
        },
        "id": "ekQ6GQewQ8OB",
        "outputId": "e6a3e7c8-b0d2-47c3-f747-a8aa032e11f4"
      },
      "source": [
        "name = str(input(\"Enter name:\"))\n",
        "br = str(input(\"Enter the brand\"))\n",
        "pr = int(input(\"Enter price:\"))\n",
        "qn = int(input(\"Enter quantity:\"))\n",
        "ex = int(input(\"Enter expiry\"))\n",
        "\n",
        "medicine_records[id] = {'Name': name ,\"Brand\" : br ,'Price' : pr , 'Quantity': qn,'Expiry' : ex}\n",
        "\n",
        "\n"
      ],
      "execution_count": 10,
      "outputs": [
        {
          "name": "stdout",
          "output_type": "stream",
          "text": [
            "Enter name:1033\n",
            "Enter the brandcipla\n",
            "Enter price:55\n",
            "Enter quantity:5\n",
            "Enter expiry2030\n"
          ]
        }
      ]
    },
    {
      "cell_type": "code",
      "metadata": {
        "colab": {
          "base_uri": "https://localhost:8080/"
        },
        "id": "kWsM8SPpRG4a",
        "outputId": "94457542-bdcd-4154-d6fe-4fc5cfc21094"
      },
      "source": [
        "medicine_records"
      ],
      "execution_count": 11,
      "outputs": [
        {
          "output_type": "execute_result",
          "data": {
            "text/plain": [
              "{'1001': {'Brand': 'Apexlabs',\n",
              "  'Exp': 2022,\n",
              "  'Name': 'Zincovit',\n",
              "  'Price': 100,\n",
              "  'Quantity': 20,\n",
              "  'qn': 18},\n",
              " '1002': {'Brand': 'apexlab',\n",
              "  'Exp': 2022,\n",
              "  'Name': 'Celin',\n",
              "  'Price': 100,\n",
              "  'Quantity': 20,\n",
              "  'qn': 17},\n",
              " '1003': {'Brand': 'Cipla',\n",
              "  'Exp': 2023,\n",
              "  'Name': 'Ciplar40',\n",
              "  'Price': 80,\n",
              "  'Quantity': 30},\n",
              " '1004': {'Brand': 'Fdc',\n",
              "  'Exp': 2022,\n",
              "  'Name': 'AmodepAt',\n",
              "  'Price': 20,\n",
              "  'Quantity': 10},\n",
              " '1005': {'Brand': 'Mankind',\n",
              "  'Exp': 2023,\n",
              "  'Name': 'DolokindPlus',\n",
              "  'Price': 98,\n",
              "  'Quantity': 10,\n",
              "  'qn': 7},\n",
              " '1006': {'Brand': 'Fdc',\n",
              "  'Exp': 2022,\n",
              "  'Name': 'Zathrin500',\n",
              "  'Price': 50,\n",
              "  'Quantity': 5},\n",
              " '1007': {'Brand': 'Cipla',\n",
              "  'Exp': 2024,\n",
              "  'Name': 'Azee500',\n",
              "  'Price': 120,\n",
              "  'Quantity': 10},\n",
              " '1008': {'Brand': 'Cipla',\n",
              "  'Exp': 2023,\n",
              "  'Name': 'Nicip',\n",
              "  'Price': 66,\n",
              "  'Quantity': 20},\n",
              " '1009': {'Brand': 'Macleods',\n",
              "  'Exp': 2022,\n",
              "  'Name': 'Macfast',\n",
              "  'Price': 20,\n",
              "  'Quantity': 30},\n",
              " '1010': {'Brand': 'Sunpharma',\n",
              "  'Exp': 2023,\n",
              "  'Name': 'Natrise',\n",
              "  'Price': 500,\n",
              "  'Quantity': 5},\n",
              " '1011': {'Brand': 'Mankind',\n",
              "  'Exp': 2022,\n",
              "  'Name': 'Monticope',\n",
              "  'Price': 800,\n",
              "  'Quantity': 10},\n",
              " '1012': {'Brand': 'Macleods',\n",
              "  'Exp': 2024,\n",
              "  'Name': 'Thyrox',\n",
              "  'Price': 200,\n",
              "  'Quantity': 30},\n",
              " '1013': {'Brand': 'Torrent',\n",
              "  'Exp': 2022,\n",
              "  'Name': 'Izra40',\n",
              "  'Price': 50,\n",
              "  'Quantity': 10},\n",
              " '1014': {'Brand': 'BlueCross',\n",
              "  'Exp': 2023,\n",
              "  'Name': 'Meftal250',\n",
              "  'Price': 98,\n",
              "  'Quantity': 5},\n",
              " '1015': {'Brand': 'Macleods',\n",
              "  'Exp': 2024,\n",
              "  'Name': 'Zithrox500',\n",
              "  'Price': 200,\n",
              "  'Quantity': 20},\n",
              " '1016': {'Brand': 'Cipla',\n",
              "  'Exp': 2023,\n",
              "  'Name': 'norfloxTZ',\n",
              "  'Price': 50,\n",
              "  'Quantity': 10},\n",
              " '1017': {'Brand': 'Mankind',\n",
              "  'Exp': 2023,\n",
              "  'Name': 'Cefakind500',\n",
              "  'Price': 380,\n",
              "  'Quantity': 5},\n",
              " '1018': {'Brand': 'Alkem',\n",
              "  'Exp': 2024,\n",
              "  'Name': 'UpriseD3',\n",
              "  'Price': 269,\n",
              "  'Quantity': 7},\n",
              " '1019': {'Brand': 'Zotapharma',\n",
              "  'Exp': 2023,\n",
              "  'Name': 'Zotamol650',\n",
              "  'Price': 90,\n",
              "  'Quantity': 3},\n",
              " '1020': {'Brand': 'Sunpharma',\n",
              "  'Exp': 2023,\n",
              "  'Name': 'Prolometxl50',\n",
              "  'Price': 500,\n",
              "  'Quantity': 10},\n",
              " '1021': {'Brand': 'Novartis',\n",
              "  'Exp': 2024,\n",
              "  'Name': 'Galvus50',\n",
              "  'Price': 300,\n",
              "  'Quantity': 4},\n",
              " '1022': {'Brand': 'Sunpharma',\n",
              "  'Exp': 2023,\n",
              "  'Name': 'MontekLc',\n",
              "  'Price': 177,\n",
              "  'Quantity': 10},\n",
              " '1023': {'Brand': 'Abbott',\n",
              "  'Exp': 2023,\n",
              "  'Name': 'Brufen200',\n",
              "  'Price': 5,\n",
              "  'Quantity': 30},\n",
              " '1024': {'Brand': 'Usb',\n",
              "  'Exp': 2024,\n",
              "  'Name': 'Ecosprin',\n",
              "  'Price': 50,\n",
              "  'Quantity': 20},\n",
              " '1025': {'Brand': 'Ajanta',\n",
              "  'Exp': 2023,\n",
              "  'Name': 'Metxl50',\n",
              "  'Price': 10,\n",
              "  'Quantity': 9},\n",
              " '1026': {'Brand': 'Fdc',\n",
              "  'Exp': 2022,\n",
              "  'Name': 'Zitelmih',\n",
              "  'Price': 150,\n",
              "  'Quantity': 30},\n",
              " '1027': {'Brand': 'Mankind',\n",
              "  'Exp': 2024,\n",
              "  'Name': 'Longifene',\n",
              "  'Price': 100,\n",
              "  'Quantity': 20},\n",
              " '1028': {'Brand': 'Cipla',\n",
              "  'Exp': 2023,\n",
              "  'Name': 'Montairfx',\n",
              "  'Price': 10,\n",
              "  'Quantity': 8},\n",
              " '1029': {'Brand': 'Fdc',\n",
              "  'Exp': 2022,\n",
              "  'Name': 'Ziblok50',\n",
              "  'Price': 200,\n",
              "  'Quantity': 10},\n",
              " '1030': {'Brand': 'DrReddys',\n",
              "  'Exp': 2024,\n",
              "  'Name': 'Razod',\n",
              "  'Price': 300,\n",
              "  'Quantity': 5},\n",
              " '1031': {'Brand': 'Cipla',\n",
              "  'Expiry': 2023,\n",
              "  'Name': 'Uprise',\n",
              "  'Price': 80,\n",
              "  'Quantity': 25},\n",
              " '1032': {'Brand': 'cipla',\n",
              "  'Expiry': 2030,\n",
              "  'Name': '1033',\n",
              "  'Price': 55,\n",
              "  'Quantity': 5}}"
            ]
          },
          "metadata": {},
          "execution_count": 11
        }
      ]
    },
    {
      "cell_type": "code",
      "metadata": {
        "id": "FoYUlwzlSAUe"
      },
      "source": [
        "js = json.dumps(medicine_records)\n",
        "\n",
        "fd = open(\"medicine_records.json\",'w')\n",
        "fd.write(js)\n",
        "fd.close()"
      ],
      "execution_count": 12,
      "outputs": []
    },
    {
      "cell_type": "code",
      "metadata": {
        "id": "PRPB0yD4S_x4"
      },
      "source": [
        ""
      ],
      "execution_count": null,
      "outputs": []
    }
  ]
}