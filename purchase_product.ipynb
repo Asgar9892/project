{
  "nbformat": 4,
  "nbformat_minor": 0,
  "metadata": {
    "colab": {
      "name": "purchase product",
      "provenance": []
    },
    "kernelspec": {
      "name": "python3",
      "display_name": "Python 3"
    },
    "language_info": {
      "name": "python"
    }
  },
  "cells": [
    {
      "cell_type": "code",
      "metadata": {
        "id": "0gAYXTr2TWOp"
      },
      "source": [
        "import json\n",
        "fd = open(\"medicine_records.json\")\n",
        "r = fd.read()\n",
        "fd.close()\n",
        "medicine_records = json.loads(r)"
      ],
      "execution_count": 2,
      "outputs": []
    },
    {
      "cell_type": "code",
      "metadata": {
        "colab": {
          "base_uri": "https://localhost:8080/"
        },
        "id": "aPswccNpT41U",
        "outputId": "35fcd699-0942-484e-c965-3b28c4a162bc"
      },
      "source": [
        "ui_prod  = str(input(\"Enter the product_Id: \"))\n",
        "ui_quant = int(input(\"Enter the quantity: \"))\n",
        "\n",
        "\n",
        "print(\"Name: \", medicine_records[ui_prod]['Name'])\n",
        "print(\"Brand:\", medicine_records[ui_prod]['Brand'])\n",
        "print(\"Price: \", medicine_records[ui_prod]['Price'])\n",
        "print(\"Billing Amount: \", medicine_records[ui_prod]['Price'] * ui_quant)\n",
        "\n",
        "medicine_records[ui_prod]['qn'] = medicine_records[ui_prod]['Quantity'] - ui_quant"
      ],
      "execution_count": 5,
      "outputs": [
        {
          "output_type": "stream",
          "name": "stdout",
          "text": [
            "Enter the product_Id: 1025\n",
            "Enter the quantity: 5\n",
            "Name:  Metxl50\n",
            "Brand: Ajanta\n",
            "Price:  10\n",
            "Billing Amount:  50\n"
          ]
        }
      ]
    },
    {
      "cell_type": "code",
      "metadata": {
        "id": "wMJDRt4EUdbX"
      },
      "source": [
        "js = json.dumps(medicine_records)\n",
        "\n",
        "fd = open(\"medicine_records.json\",'w')\n",
        "fd.write(js)\n",
        "fd.close()"
      ],
      "execution_count": 6,
      "outputs": []
    },
    {
      "cell_type": "code",
      "metadata": {
        "id": "YhYEp2nFVJ9J"
      },
      "source": [
        ""
      ],
      "execution_count": null,
      "outputs": []
    }
  ]
}